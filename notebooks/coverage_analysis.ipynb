{
 "cells": [
  {
   "cell_type": "code",
   "execution_count": 1,
   "id": "470424ab",
   "metadata": {},
   "outputs": [],
   "source": [
    "import ee\n",
    "#ee.Authenticate(force = True)"
   ]
  },
  {
   "cell_type": "code",
   "execution_count": 2,
   "id": "5532360c",
   "metadata": {},
   "outputs": [],
   "source": [
    "ee.Initialize()"
   ]
  },
  {
   "cell_type": "code",
   "execution_count": 3,
   "id": "39d31739",
   "metadata": {},
   "outputs": [
    {
     "data": {
      "text/plain": [
       "'e:\\\\D-Drive\\\\Dynamic_world_1\\\\notebooks'"
      ]
     },
     "execution_count": 3,
     "metadata": {},
     "output_type": "execute_result"
    }
   ],
   "source": [
    "%pwd"
   ]
  },
  {
   "cell_type": "code",
   "execution_count": 4,
   "id": "71b8a43c",
   "metadata": {},
   "outputs": [
    {
     "name": "stdout",
     "output_type": "stream",
     "text": [
      "STDOUT:\n",
      " Extracting basin with HYBAS_ID: 2050022150\n",
      "Processing Dynamic World coverage analysis...\n",
      "Export task started. Check the Earth Engine Tasks tab for progress.\n",
      "\n",
      "STDERR:\n",
      " \n"
     ]
    }
   ],
   "source": [
    "import sys\n",
    "import subprocess\n",
    "import os\n",
    "\n",
    "def convert_to_ee_dict(period):\n",
    "    \"\"\"Convert Python dict to ee.Dictionary for server-side processing\"\"\"\n",
    "    return ee.Dictionary({\n",
    "        'start': period['start'],\n",
    "        'end': period['end'],\n",
    "        'name': period['name']\n",
    "    })\n",
    "\n",
    "script_path = os.path.join(\"..\", \"src\", \"extract_basin.py\")\n",
    "result = subprocess.run([sys.executable, script_path], capture_output=True, text=True)\n",
    "\n",
    "print(\"STDOUT:\\n\", result.stdout)\n",
    "print(\"STDERR:\\n\", result.stderr)"
   ]
  },
  {
   "cell_type": "code",
   "execution_count": null,
   "id": "181cd0a1",
   "metadata": {},
   "outputs": [],
   "source": []
  }
 ],
 "metadata": {
  "kernelspec": {
   "display_name": "dynamic",
   "language": "python",
   "name": "python3"
  },
  "language_info": {
   "codemirror_mode": {
    "name": "ipython",
    "version": 3
   },
   "file_extension": ".py",
   "mimetype": "text/x-python",
   "name": "python",
   "nbconvert_exporter": "python",
   "pygments_lexer": "ipython3",
   "version": "3.11.2"
  }
 },
 "nbformat": 4,
 "nbformat_minor": 5
}
