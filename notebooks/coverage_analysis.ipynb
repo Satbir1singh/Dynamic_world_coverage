{
 "cells": [
  {
   "cell_type": "code",
   "execution_count": 1,
   "id": "470424ab",
   "metadata": {},
   "outputs": [],
   "source": [
    "import ee\n",
    "#ee.Authenticate(force = True)"
   ]
  },
  {
   "cell_type": "code",
   "execution_count": 2,
   "id": "5532360c",
   "metadata": {},
   "outputs": [],
   "source": [
    "ee.Initialize()"
   ]
  },
  {
   "cell_type": "code",
   "execution_count": 3,
   "id": "39d31739",
   "metadata": {},
   "outputs": [
    {
     "data": {
      "text/plain": [
       "'e:\\\\D-Drive\\\\Dynamic_world_1\\\\notebooks'"
      ]
     },
     "execution_count": 3,
     "metadata": {},
     "output_type": "execute_result"
    }
   ],
   "source": [
    "%pwd"
   ]
  },
  {
   "cell_type": "code",
   "execution_count": 4,
   "id": "71b8a43c",
   "metadata": {},
   "outputs": [
    {
     "name": "stdout",
     "output_type": "stream",
     "text": [
      "STDOUT:\n",
      " Processing Dynamic World coverage â€¦\n",
      "Calculating total basin area in hectares (this may take a while)...\n",
      "\n",
      "STDERR:\n",
      " Traceback (most recent call last):\n",
      "  File \"e:\\D-Drive\\Dynamic_world_1\\dynamic\\Lib\\site-packages\\ee\\data.py\", line 408, in _execute_cloud_call\n",
      "    return call.execute(num_retries=num_retries)\n",
      "           ^^^^^^^^^^^^^^^^^^^^^^^^^^^^^^^^^^^^^\n",
      "  File \"e:\\D-Drive\\Dynamic_world_1\\dynamic\\Lib\\site-packages\\googleapiclient\\_helpers.py\", line 130, in positional_wrapper\n",
      "    return wrapped(*args, **kwargs)\n",
      "           ^^^^^^^^^^^^^^^^^^^^^^^^\n",
      "  File \"e:\\D-Drive\\Dynamic_world_1\\dynamic\\Lib\\site-packages\\googleapiclient\\http.py\", line 938, in execute\n",
      "    raise HttpError(resp, content, uri=self.uri)\n",
      "googleapiclient.errors.HttpError: <HttpError 400 when requesting https://earthengine.googleapis.com/v1/projects/ee-officialsatbir23/value:compute?prettyPrint=false&alt=json returned \"Computation timed out.\". Details: \"Computation timed out.\">\n",
      "\n",
      "During handling of the above exception, another exception occurred:\n",
      "\n",
      "Traceback (most recent call last):\n",
      "  File \"e:\\D-Drive\\Dynamic_world_1\\src\\main.py\", line 73, in <module>\n",
      "    results = quantify_dw_coverage(BASIN_ASSET_ID, YEARS)\n",
      "              ^^^^^^^^^^^^^^^^^^^^^^^^^^^^^^^^^^^^^^^^^^^\n",
      "  File \"e:\\D-Drive\\Dynamic_world_1\\src\\main.py\", line 38, in quantify_dw_coverage\n",
      "    total_area_ha = compute_covered_area(ee.Image.constant(1).clip(basin), basin, SCALE).getInfo()\n",
      "                    ^^^^^^^^^^^^^^^^^^^^^^^^^^^^^^^^^^^^^^^^^^^^^^^^^^^^^^^^^^^^^^^^^^^^^^^^^^^^^^\n",
      "  File \"e:\\D-Drive\\Dynamic_world_1\\dynamic\\Lib\\site-packages\\ee\\computedobject.py\", line 107, in getInfo\n",
      "    return data.computeValue(self)\n",
      "           ^^^^^^^^^^^^^^^^^^^^^^^\n",
      "  File \"e:\\D-Drive\\Dynamic_world_1\\dynamic\\Lib\\site-packages\\ee\\data.py\", line 1128, in computeValue\n",
      "    return _execute_cloud_call(\n",
      "           ^^^^^^^^^^^^^^^^^^^^\n",
      "  File \"e:\\D-Drive\\Dynamic_world_1\\dynamic\\Lib\\site-packages\\ee\\data.py\", line 410, in _execute_cloud_call\n",
      "    raise _translate_cloud_exception(e)  # pylint: disable=raise-missing-from\n",
      "    ^^^^^^^^^^^^^^^^^^^^^^^^^^^^^^^^^^^\n",
      "ee.ee_exception.EEException: Computation timed out.\n",
      "\n"
     ]
    }
   ],
   "source": [
    "import sys\n",
    "import subprocess\n",
    "import os\n",
    "\n",
    "script_path = os.path.join(\"..\", \"src\", \"main.py\")\n",
    "result = subprocess.run([sys.executable, script_path], capture_output=True, text=True)\n",
    "\n",
    "print(\"STDOUT:\\n\", result.stdout)\n",
    "print(\"STDERR:\\n\", result.stderr)"
   ]
  },
  {
   "cell_type": "code",
   "execution_count": null,
   "id": "2640d85f",
   "metadata": {},
   "outputs": [],
   "source": [
    "# Cell 3: Read and display results\n",
    "import pandas as pd\n",
    "csv_path = os.path.join(\"..\", \"outputs\", \"coverage_results.csv\")\n",
    "\n",
    "df = pd.read_csv(csv_path)\n",
    "df.head(14)  # View first 14 months for example\n"
   ]
  }
 ],
 "metadata": {
  "kernelspec": {
   "display_name": "dynamic",
   "language": "python",
   "name": "python3"
  },
  "language_info": {
   "codemirror_mode": {
    "name": "ipython",
    "version": 3
   },
   "file_extension": ".py",
   "mimetype": "text/x-python",
   "name": "python",
   "nbconvert_exporter": "python",
   "pygments_lexer": "ipython3",
   "version": "3.11.2"
  }
 },
 "nbformat": 4,
 "nbformat_minor": 5
}
