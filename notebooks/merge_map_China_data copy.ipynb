{
 "cells": [
  {
   "cell_type": "code",
   "execution_count": 2,
   "id": "dd72f3d1",
   "metadata": {},
   "outputs": [],
   "source": [
    "import pandas as pd\n",
    "import os\n",
    "import geopandas as gpd"
   ]
  },
  {
   "cell_type": "code",
   "execution_count": 2,
   "id": "809e8d90",
   "metadata": {},
   "outputs": [],
   "source": [
    "folder_path = \"E:\\D-Drive\\Dynamic_world_1\\data_china_all_2021\""
   ]
  },
  {
   "cell_type": "code",
   "execution_count": 3,
   "id": "ad65b534",
   "metadata": {},
   "outputs": [],
   "source": [
    "summary_data = []"
   ]
  },
  {
   "cell_type": "code",
   "execution_count": 4,
   "id": "e3d9e9af",
   "metadata": {},
   "outputs": [],
   "source": [
    "# Process each file\n",
    "for filename in os.listdir(folder_path):\n",
    "    if filename.endswith(\".csv\"):\n",
    "        filepath = os.path.join(folder_path, filename)\n",
    "        df = pd.read_csv(filepath)\n",
    "\n",
    "        # Get HYBAS_ID and total_area (same for all rows)\n",
    "        hybas_id = df[\"HYBAS_ID\"].iloc[0]\n",
    "        total_area = df[\"total_area\"].iloc[0]\n",
    "\n",
    "        # Separate monthly data (exclude '2021_total')\n",
    "        monthly_df = df[~df[\"Period\"].str.contains(\"total\")]\n",
    "\n",
    "        # Compute stats on monthly coverage percent\n",
    "        monthly_mean = monthly_df[\"Coverage_percent\"].mean()\n",
    "        monthly_min = monthly_df[\"Coverage_percent\"].min()\n",
    "        monthly_max = monthly_df[\"Coverage_percent\"].max()\n",
    "        monthly_variation = monthly_max - monthly_min\n",
    "\n",
    "        # Get yearly value (row where Period = 2021_total)\n",
    "        yearly_row = df[df[\"Period\"] == \"2021_total\"]\n",
    "        yearly_value = yearly_row[\"Coverage_percent\"].values[0] if not yearly_row.empty else None\n",
    "\n",
    "        # Append summary\n",
    "        summary_data.append({\n",
    "            \"HYBAS_ID\": hybas_id,\n",
    "            \"monthly_mean\": monthly_mean,\n",
    "            \"monthly_min\": monthly_min,\n",
    "            \"monthly_max\": monthly_max,\n",
    "            \"monthly_variation\": monthly_variation,\n",
    "            \"yearly_value\": yearly_value,\n",
    "            \"total_area\": total_area\n",
    "        })\n",
    "\n",
    "# Convert to DataFrame\n",
    "summary_df = pd.DataFrame(summary_data)\n"
   ]
  },
  {
   "cell_type": "code",
   "execution_count": 5,
   "id": "b29de8bc",
   "metadata": {},
   "outputs": [
    {
     "data": {
      "text/html": [
       "<div>\n",
       "<style scoped>\n",
       "    .dataframe tbody tr th:only-of-type {\n",
       "        vertical-align: middle;\n",
       "    }\n",
       "\n",
       "    .dataframe tbody tr th {\n",
       "        vertical-align: top;\n",
       "    }\n",
       "\n",
       "    .dataframe thead th {\n",
       "        text-align: right;\n",
       "    }\n",
       "</style>\n",
       "<table border=\"1\" class=\"dataframe\">\n",
       "  <thead>\n",
       "    <tr style=\"text-align: right;\">\n",
       "      <th></th>\n",
       "      <th>HYBAS_ID</th>\n",
       "      <th>monthly_mean</th>\n",
       "      <th>monthly_min</th>\n",
       "      <th>monthly_max</th>\n",
       "      <th>monthly_variation</th>\n",
       "      <th>yearly_value</th>\n",
       "      <th>total_area</th>\n",
       "    </tr>\n",
       "  </thead>\n",
       "  <tbody>\n",
       "    <tr>\n",
       "      <th>0</th>\n",
       "      <td>4050002470</td>\n",
       "      <td>87.249</td>\n",
       "      <td>12.870379</td>\n",
       "      <td>100.0</td>\n",
       "      <td>87.129621</td>\n",
       "      <td>100.0</td>\n",
       "      <td>2.334256e+06</td>\n",
       "    </tr>\n",
       "  </tbody>\n",
       "</table>\n",
       "</div>"
      ],
      "text/plain": [
       "     HYBAS_ID  monthly_mean  monthly_min  monthly_max  monthly_variation  \\\n",
       "0  4050002470        87.249    12.870379        100.0          87.129621   \n",
       "\n",
       "   yearly_value    total_area  \n",
       "0         100.0  2.334256e+06  "
      ]
     },
     "execution_count": 5,
     "metadata": {},
     "output_type": "execute_result"
    }
   ],
   "source": [
    "summary_df.head(1)"
   ]
  },
  {
   "cell_type": "code",
   "execution_count": 7,
   "id": "90c44310",
   "metadata": {},
   "outputs": [],
   "source": [
    "summary_df.to_csv(\"China_basins_summary_2021.csv\", index=False)"
   ]
  },
  {
   "cell_type": "code",
   "execution_count": null,
   "id": "320cedc4",
   "metadata": {},
   "outputs": [],
   "source": [
    "!pip install geopandas matplotlib"
   ]
  },
  {
   "cell_type": "code",
   "execution_count": 8,
   "id": "a3135e84",
   "metadata": {},
   "outputs": [
    {
     "name": "stdout",
     "output_type": "stream",
     "text": [
      "Index(['HYBAS_ID', 'NEXT_DOWN', 'NEXT_SINK', 'MAIN_BAS', 'DIST_SINK',\n",
      "       'DIST_MAIN', 'SUB_AREA', 'UP_AREA', 'PFAF_ID', 'ENDO', 'COAST', 'ORDER',\n",
      "       'SORT', 'geometry'],\n",
      "      dtype='object')\n"
     ]
    }
   ],
   "source": [
    "# Path to your shapefile folder\n",
    "hydrobasin_path = \"E:\\D-Drive\\Dynamic_world_1\\hybas_as_lev05_v1c\"  \n",
    "\n",
    "# Read the shapefile (usually the .shp file is inside the folder)\n",
    "gdf_basins = gpd.read_file(os.path.join(hydrobasin_path, \"hybas_as_lev05_v1c.shp\"))  \n",
    "\n",
    "# View the columns (to find the HYBAS_ID field name, usually HYBAS_ID)\n",
    "print(gdf_basins.columns)"
   ]
  },
  {
   "cell_type": "code",
   "execution_count": 9,
   "id": "2221fbe0",
   "metadata": {},
   "outputs": [],
   "source": [
    "gdf_basins[\"HYBAS_ID\"] = gdf_basins[\"HYBAS_ID\"].astype(int)\n",
    "summary_df[\"HYBAS_ID\"] = summary_df[\"HYBAS_ID\"].astype(int)\n",
    "\n",
    "# Merge GeoDataFrame with summary stats\n",
    "gdf_merged = gdf_basins.merge(summary_df, on=\"HYBAS_ID\", how=\"inner\")"
   ]
  },
  {
   "cell_type": "code",
   "execution_count": 10,
   "id": "0a555a23",
   "metadata": {},
   "outputs": [
    {
     "data": {
      "text/html": [
       "<div>\n",
       "<style scoped>\n",
       "    .dataframe tbody tr th:only-of-type {\n",
       "        vertical-align: middle;\n",
       "    }\n",
       "\n",
       "    .dataframe tbody tr th {\n",
       "        vertical-align: top;\n",
       "    }\n",
       "\n",
       "    .dataframe thead th {\n",
       "        text-align: right;\n",
       "    }\n",
       "</style>\n",
       "<table border=\"1\" class=\"dataframe\">\n",
       "  <thead>\n",
       "    <tr style=\"text-align: right;\">\n",
       "      <th></th>\n",
       "      <th>HYBAS_ID</th>\n",
       "      <th>NEXT_DOWN</th>\n",
       "      <th>NEXT_SINK</th>\n",
       "      <th>MAIN_BAS</th>\n",
       "      <th>DIST_SINK</th>\n",
       "      <th>DIST_MAIN</th>\n",
       "      <th>SUB_AREA</th>\n",
       "      <th>UP_AREA</th>\n",
       "      <th>PFAF_ID</th>\n",
       "      <th>ENDO</th>\n",
       "      <th>COAST</th>\n",
       "      <th>ORDER</th>\n",
       "      <th>SORT</th>\n",
       "      <th>geometry</th>\n",
       "      <th>monthly_mean</th>\n",
       "      <th>monthly_min</th>\n",
       "      <th>monthly_max</th>\n",
       "      <th>monthly_variation</th>\n",
       "      <th>yearly_value</th>\n",
       "      <th>total_area</th>\n",
       "    </tr>\n",
       "  </thead>\n",
       "  <tbody>\n",
       "    <tr>\n",
       "      <th>0</th>\n",
       "      <td>4050169400</td>\n",
       "      <td>4050165470</td>\n",
       "      <td>4050000880</td>\n",
       "      <td>4050000880</td>\n",
       "      <td>930.2</td>\n",
       "      <td>930.2</td>\n",
       "      <td>8271.6</td>\n",
       "      <td>195730.5</td>\n",
       "      <td>42221</td>\n",
       "      <td>0</td>\n",
       "      <td>0</td>\n",
       "      <td>2</td>\n",
       "      <td>20</td>\n",
       "      <td>POLYGON ((133.17917 47.325, 133.1625 47.325, 1...</td>\n",
       "      <td>91.306446</td>\n",
       "      <td>45.193677</td>\n",
       "      <td>100.0</td>\n",
       "      <td>54.806323</td>\n",
       "      <td>100.0</td>\n",
       "      <td>1.235360e+06</td>\n",
       "    </tr>\n",
       "  </tbody>\n",
       "</table>\n",
       "</div>"
      ],
      "text/plain": [
       "     HYBAS_ID   NEXT_DOWN   NEXT_SINK    MAIN_BAS  DIST_SINK  DIST_MAIN  \\\n",
       "0  4050169400  4050165470  4050000880  4050000880      930.2      930.2   \n",
       "\n",
       "   SUB_AREA   UP_AREA  PFAF_ID  ENDO  COAST  ORDER  SORT  \\\n",
       "0    8271.6  195730.5    42221     0      0      2    20   \n",
       "\n",
       "                                            geometry  monthly_mean  \\\n",
       "0  POLYGON ((133.17917 47.325, 133.1625 47.325, 1...     91.306446   \n",
       "\n",
       "   monthly_min  monthly_max  monthly_variation  yearly_value    total_area  \n",
       "0    45.193677        100.0          54.806323         100.0  1.235360e+06  "
      ]
     },
     "execution_count": 10,
     "metadata": {},
     "output_type": "execute_result"
    }
   ],
   "source": [
    "gdf_merged.head(1)"
   ]
  },
  {
   "cell_type": "code",
   "execution_count": 12,
   "id": "e592b5f1",
   "metadata": {},
   "outputs": [],
   "source": [
    "# Export merged GeoDataFrame to GeoJSON for geemap\n",
    "geojson_path = \"merged_hydrobasins_China.geojson\"\n",
    "gdf_merged.to_file(geojson_path, driver=\"GeoJSON\")"
   ]
  },
  {
   "cell_type": "code",
   "execution_count": 3,
   "id": "df710d84",
   "metadata": {},
   "outputs": [
    {
     "data": {
      "text/plain": [
       "Index(['HYBAS_ID', 'NEXT_DOWN', 'NEXT_SINK', 'MAIN_BAS', 'DIST_SINK',\n",
       "       'DIST_MAIN', 'SUB_AREA', 'UP_AREA', 'PFAF_ID', 'ENDO', 'COAST', 'ORDER',\n",
       "       'SORT', 'monthly_mean', 'monthly_min', 'monthly_max',\n",
       "       'monthly_variation', 'yearly_value', 'total_area', 'geometry'],\n",
       "      dtype='object')"
      ]
     },
     "execution_count": 3,
     "metadata": {},
     "output_type": "execute_result"
    }
   ],
   "source": [
    "\n",
    "# Load your GeoDataFrame\n",
    "gdf = gpd.read_file(\"merged_hydrobasins_China.geojson\")\n",
    "\n",
    "# Confirm column names\n",
    "gdf.columns"
   ]
  },
  {
   "cell_type": "code",
   "execution_count": 4,
   "id": "32186d3f",
   "metadata": {},
   "outputs": [],
   "source": [
    "import geopandas as gpd\n",
    "import geemap\n",
    "import ipywidgets as widgets\n",
    "from ipyleaflet import GeoJSON, WidgetControl, Popup\n",
    "from branca.colormap import linear\n",
    "import matplotlib.pyplot as plt\n",
    "from matplotlib import cm, colors \n",
    "\n",
    "def plot_choropleth(feature, cmap_name='viridis'):\n",
    "    # Step 1: Clean data\n",
    "    gdf_plot = gdf[[\"HYBAS_ID\", \"geometry\", feature]].dropna()\n",
    "\n",
    "    # Step 2: Colormap setup\n",
    "    vmin, vmax = gdf_plot[feature].min(), gdf_plot[feature].max()\n",
    "    colormap = linear.__getattribute__(cmap_name).scale(vmin, vmax)\n",
    "    colormap.caption = feature.replace(\"_\", \" \").title()\n",
    "    norm = plt.Normalize(vmin=vmin, vmax=vmax)\n",
    "    cmap = cm.get_cmap(cmap_name)\n",
    "    \n",
    "    # Step 3: Convert GeoDataFrame to styled GeoJSON\n",
    "    styled_features = []\n",
    "    id_lookup = {}\n",
    "    for _, row in gdf_plot.iterrows():\n",
    "        value = round(row[feature], 2)\n",
    "        color = colormap(value)\n",
    "        hybas_id = int(row[\"HYBAS_ID\"])\n",
    "        props = {\n",
    "            \"HYBAS_ID\": hybas_id,\n",
    "            feature: value,\n",
    "            \"style\": {\n",
    "                \"color\": \"black\",\n",
    "                \"weight\": 0.5,\n",
    "                \"fillColor\": color,\n",
    "                \"fillOpacity\": 0.8\n",
    "            }\n",
    "        }\n",
    "        id_lookup[hybas_id] = props  # Store for popup access\n",
    "        styled_features.append({\n",
    "            \"type\": \"Feature\",\n",
    "            \"geometry\": row[\"geometry\"].__geo_interface__,\n",
    "            \"properties\": props\n",
    "        })\n",
    "\n",
    "    geojson_data = {\n",
    "        \"type\": \"FeatureCollection\",\n",
    "        \"features\": styled_features\n",
    "    }\n",
    "\n",
    "    gdf_plot[\"style\"] = gdf_plot[feature].apply(lambda x: colors.to_hex(cmap(norm(x))))\n",
    "\n",
    "    features_json = []\n",
    "    for _, row in gdf_plot.iterrows():\n",
    "        features_json.append({\n",
    "            \"type\": \"Feature\",\n",
    "            \"geometry\": row[\"geometry\"].__geo_interface__,\n",
    "            \"properties\": {\n",
    "                \"HYBAS_ID\": row[\"HYBAS_ID\"],\n",
    "                feature: row[feature],\n",
    "                \"style\": {\n",
    "                    \"color\": \"black\",\n",
    "                    \"weight\": 0.5,\n",
    "                    \"fillColor\": row[\"style\"],\n",
    "                    \"fillOpacity\": 0.8\n",
    "                }\n",
    "            }\n",
    "        })\n",
    "\n",
    "    geojson_dict = {\n",
    "        \"type\": \"FeatureCollection\",\n",
    "        \"features\": features_json\n",
    "    }\n",
    "    # Step 4: Create the map\n",
    "    m = geemap.Map(center=[22.7266, 74.9799], zoom=4)\n",
    "\n",
    "    # Step 5: Add the GeoJSON layer\n",
    "    geo_json_layer = GeoJSON(\n",
    "        data=geojson_data,\n",
    "        style={\"opacity\": 1, \"fillOpacity\": 0.7},\n",
    "        hover_style={\"fillColor\": \"white\", \"fillOpacity\": 0.4},\n",
    "        name=feature\n",
    "    )\n",
    "    m.add_layer(geo_json_layer)\n",
    "    m.add_geojson(geojson_dict, layer_name=feature, info_mode=\"on_hover\")\n",
    "\n",
    "    # Step 7: Add color legend\n",
    "    legend_html = colormap._repr_html_()\n",
    "    legend_widget = widgets.HTML(value=legend_html)\n",
    "    legend_control = WidgetControl(widget=legend_widget, position='bottomright')\n",
    "    m.add_control(legend_control)\n",
    "\n",
    "\n",
    "    return m\n"
   ]
  },
  {
   "cell_type": "code",
   "execution_count": 15,
   "id": "10e41eec",
   "metadata": {},
   "outputs": [
    {
     "data": {
      "text/html": [
       "\n",
       "            <style>\n",
       "                .geemap-dark {\n",
       "                    --jp-widgets-color: white;\n",
       "                    --jp-widgets-label-color: white;\n",
       "                    --jp-ui-font-color1: white;\n",
       "                    --jp-layout-color2: #454545;\n",
       "                    background-color: #383838;\n",
       "                }\n",
       "\n",
       "                .geemap-dark .jupyter-button {\n",
       "                    --jp-layout-color3: #383838;\n",
       "                }\n",
       "\n",
       "                .geemap-colab {\n",
       "                    background-color: var(--colab-primary-surface-color, white);\n",
       "                }\n",
       "\n",
       "                .geemap-colab .jupyter-button {\n",
       "                    --jp-layout-color3: var(--colab-primary-surface-color, white);\n",
       "                }\n",
       "            </style>\n",
       "            "
      ],
      "text/plain": [
       "<IPython.core.display.HTML object>"
      ]
     },
     "metadata": {},
     "output_type": "display_data"
    },
    {
     "name": "stderr",
     "output_type": "stream",
     "text": [
      "C:\\Users\\Satbir\\AppData\\Local\\Temp\\ipykernel_15556\\958187023.py:18: MatplotlibDeprecationWarning: The get_cmap function was deprecated in Matplotlib 3.7 and will be removed in 3.11. Use ``matplotlib.colormaps[name]`` or ``matplotlib.colormaps.get_cmap()`` or ``pyplot.get_cmap()`` instead.\n",
      "  cmap = cm.get_cmap(cmap_name)\n"
     ]
    },
    {
     "data": {
      "application/vnd.jupyter.widget-view+json": {
       "model_id": "5eeff9f24dfe497583a4d8fd67eaf3c4",
       "version_major": 2,
       "version_minor": 0
      },
      "text/plain": [
       "Map(center=[22.7266, 74.9799], controls=(WidgetControl(options=['position', 'transparent_bg'], widget=SearchDa…"
      ]
     },
     "execution_count": 15,
     "metadata": {},
     "output_type": "execute_result"
    }
   ],
   "source": [
    "plot_choropleth(\"monthly_mean\")"
   ]
  },
  {
   "cell_type": "code",
   "execution_count": 5,
   "id": "9994e5b6",
   "metadata": {},
   "outputs": [
    {
     "data": {
      "text/html": [
       "\n",
       "            <style>\n",
       "                .geemap-dark {\n",
       "                    --jp-widgets-color: white;\n",
       "                    --jp-widgets-label-color: white;\n",
       "                    --jp-ui-font-color1: white;\n",
       "                    --jp-layout-color2: #454545;\n",
       "                    background-color: #383838;\n",
       "                }\n",
       "\n",
       "                .geemap-dark .jupyter-button {\n",
       "                    --jp-layout-color3: #383838;\n",
       "                }\n",
       "\n",
       "                .geemap-colab {\n",
       "                    background-color: var(--colab-primary-surface-color, white);\n",
       "                }\n",
       "\n",
       "                .geemap-colab .jupyter-button {\n",
       "                    --jp-layout-color3: var(--colab-primary-surface-color, white);\n",
       "                }\n",
       "            </style>\n",
       "            "
      ],
      "text/plain": [
       "<IPython.core.display.HTML object>"
      ]
     },
     "metadata": {},
     "output_type": "display_data"
    },
    {
     "name": "stdout",
     "output_type": "stream",
     "text": [
      "Interactive map for monthly_mean\n"
     ]
    },
    {
     "name": "stderr",
     "output_type": "stream",
     "text": [
      "C:\\Users\\Satbir\\AppData\\Local\\Temp\\ipykernel_16236\\958187023.py:18: MatplotlibDeprecationWarning: The get_cmap function was deprecated in Matplotlib 3.7 and will be removed in 3.11. Use ``matplotlib.colormaps[name]`` or ``matplotlib.colormaps.get_cmap()`` or ``pyplot.get_cmap()`` instead.\n",
      "  cmap = cm.get_cmap(cmap_name)\n"
     ]
    },
    {
     "data": {
      "application/vnd.jupyter.widget-view+json": {
       "model_id": "3760877f2dcc46dcb204cb098f850f14",
       "version_major": 2,
       "version_minor": 0
      },
      "text/plain": [
       "Map(center=[22.7266, 74.9799], controls=(WidgetControl(options=['position', 'transparent_bg'], widget=SearchDa…"
      ]
     },
     "metadata": {},
     "output_type": "display_data"
    },
    {
     "name": "stdout",
     "output_type": "stream",
     "text": [
      "Interactive map for monthly_min\n"
     ]
    },
    {
     "data": {
      "application/vnd.jupyter.widget-view+json": {
       "model_id": "54bb5433cc5042fb862c75f3f31622d1",
       "version_major": 2,
       "version_minor": 0
      },
      "text/plain": [
       "Map(center=[22.7266, 74.9799], controls=(WidgetControl(options=['position', 'transparent_bg'], widget=SearchDa…"
      ]
     },
     "metadata": {},
     "output_type": "display_data"
    },
    {
     "name": "stdout",
     "output_type": "stream",
     "text": [
      "Interactive map for monthly_max\n"
     ]
    },
    {
     "data": {
      "application/vnd.jupyter.widget-view+json": {
       "model_id": "3b5f4ae595cb4fe0b7a434812d1df561",
       "version_major": 2,
       "version_minor": 0
      },
      "text/plain": [
       "Map(center=[22.7266, 74.9799], controls=(WidgetControl(options=['position', 'transparent_bg'], widget=SearchDa…"
      ]
     },
     "metadata": {},
     "output_type": "display_data"
    },
    {
     "name": "stdout",
     "output_type": "stream",
     "text": [
      "Interactive map for monthly_variation\n"
     ]
    },
    {
     "data": {
      "application/vnd.jupyter.widget-view+json": {
       "model_id": "1a1d7e37297b4f3cbfe32ee9217d5097",
       "version_major": 2,
       "version_minor": 0
      },
      "text/plain": [
       "Map(center=[22.7266, 74.9799], controls=(WidgetControl(options=['position', 'transparent_bg'], widget=SearchDa…"
      ]
     },
     "metadata": {},
     "output_type": "display_data"
    },
    {
     "name": "stdout",
     "output_type": "stream",
     "text": [
      "Interactive map for yearly_value\n"
     ]
    },
    {
     "data": {
      "application/vnd.jupyter.widget-view+json": {
       "model_id": "99852411d36a4420a8016c88605dde4e",
       "version_major": 2,
       "version_minor": 0
      },
      "text/plain": [
       "Map(center=[22.7266, 74.9799], controls=(WidgetControl(options=['position', 'transparent_bg'], widget=SearchDa…"
      ]
     },
     "metadata": {},
     "output_type": "display_data"
    }
   ],
   "source": [
    "features = [\"monthly_mean\", \"monthly_min\", \"monthly_max\", \"monthly_variation\", \"yearly_value\"]\n",
    "\n",
    "for feature in features:\n",
    "    print(f\"Interactive map for {feature}\")\n",
    "    display(plot_choropleth(feature))"
   ]
  },
  {
   "cell_type": "code",
   "execution_count": null,
   "id": "4dc1e4c4",
   "metadata": {},
   "outputs": [],
   "source": []
  }
 ],
 "metadata": {
  "kernelspec": {
   "display_name": "dynamic",
   "language": "python",
   "name": "python3"
  },
  "language_info": {
   "codemirror_mode": {
    "name": "ipython",
    "version": 3
   },
   "file_extension": ".py",
   "mimetype": "text/x-python",
   "name": "python",
   "nbconvert_exporter": "python",
   "pygments_lexer": "ipython3",
   "version": "3.11.2"
  }
 },
 "nbformat": 4,
 "nbformat_minor": 5
}
